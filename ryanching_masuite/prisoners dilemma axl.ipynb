{
 "cells": [
  {
   "cell_type": "code",
   "execution_count": 61,
   "id": "2f3149db",
   "metadata": {},
   "outputs": [
    {
     "data": {
      "text/plain": [
       "238"
      ]
     },
     "execution_count": 61,
     "metadata": {},
     "output_type": "execute_result"
    }
   ],
   "source": [
    "import axelrod as axl\n",
    "import os\n",
    "import csv\n",
    "len(axl.strategies)"
   ]
  },
  {
   "cell_type": "code",
   "execution_count": 18,
   "id": "603048de",
   "metadata": {},
   "outputs": [
    {
     "name": "stderr",
     "output_type": "stream",
     "text": [
      "Playing matches: 100%|██████████| 15/15 [00:00<00:00, 31.56it/s]\n",
      "Analysing: 100%|██████████| 25/25 [00:00<00:00, 328.06it/s]\n"
     ]
    },
    {
     "ename": "TypeError",
     "evalue": "_calculate_results() missing 1 required positional argument: 'interactions'",
     "output_type": "error",
     "traceback": [
      "\u001b[0;31m---------------------------------------------------------------------------\u001b[0m",
      "\u001b[0;31mTypeError\u001b[0m                                 Traceback (most recent call last)",
      "\u001b[0;32m<ipython-input-18-032a47e65e3a>\u001b[0m in \u001b[0;36m<module>\u001b[0;34m\u001b[0m\n\u001b[1;32m      4\u001b[0m \u001b[0mtournament\u001b[0m \u001b[0;34m=\u001b[0m \u001b[0maxl\u001b[0m\u001b[0;34m.\u001b[0m\u001b[0mTournament\u001b[0m\u001b[0;34m(\u001b[0m\u001b[0mplayers\u001b[0m\u001b[0;34m,\u001b[0m \u001b[0mname\u001b[0m \u001b[0;34m=\u001b[0m \u001b[0;34m\"test\"\u001b[0m\u001b[0;34m,\u001b[0m \u001b[0mnoise\u001b[0m \u001b[0;34m=\u001b[0m \u001b[0;36m0.5\u001b[0m\u001b[0;34m)\u001b[0m\u001b[0;34m\u001b[0m\u001b[0;34m\u001b[0m\u001b[0m\n\u001b[1;32m      5\u001b[0m \u001b[0mresults\u001b[0m \u001b[0;34m=\u001b[0m \u001b[0mtournament\u001b[0m\u001b[0;34m.\u001b[0m\u001b[0mplay\u001b[0m\u001b[0;34m(\u001b[0m\u001b[0;34m)\u001b[0m\u001b[0;34m\u001b[0m\u001b[0;34m\u001b[0m\u001b[0m\n\u001b[0;32m----> 6\u001b[0;31m \u001b[0mshow_result\u001b[0m \u001b[0;34m=\u001b[0m \u001b[0mtournament\u001b[0m\u001b[0;34m.\u001b[0m\u001b[0m_calculate_results\u001b[0m\u001b[0;34m(\u001b[0m\u001b[0;34m)\u001b[0m\u001b[0;34m\u001b[0m\u001b[0;34m\u001b[0m\u001b[0m\n\u001b[0m\u001b[1;32m      7\u001b[0m \u001b[0mshow_result\u001b[0m\u001b[0;34m\u001b[0m\u001b[0;34m\u001b[0m\u001b[0m\n",
      "\u001b[0;31mTypeError\u001b[0m: _calculate_results() missing 1 required positional argument: 'interactions'"
     ]
    }
   ],
   "source": [
    "players = [axl.RiskyQLearner(), axl.Alternator(), \n",
    "           axl.TitForTat(), axl.APavlov2011()]\n",
    "players.append(axl.Random())\n",
    "tournament = axl.Tournament(players, name = \"test\", noise = 0.5)\n",
    "results = tournament.play()\n",
    "show_result = tournament._calculate_results()\n",
    "show_result"
   ]
  },
  {
   "cell_type": "code",
   "execution_count": 8,
   "id": "281c4af7",
   "metadata": {},
   "outputs": [
    {
     "name": "stderr",
     "output_type": "stream",
     "text": [
      "<ipython-input-8-ec7733d7e573>:12: UserWarning: Matplotlib is currently using module://ipykernel.pylab.backend_inline, which is a non-GUI backend, so cannot show the figure.\n",
      "  pPd.show()\n"
     ]
    },
    {
     "data": {
      "image/png": "[encoded data removed]",
      "text/plain": [
       "<Figure size 864x864 with 2 Axes>"
      ]
     },
     "metadata": {
      "needs_background": "light"
     },
     "output_type": "display_data"
    }
   ],
   "source": [
    "'''\n",
    "Plots\n",
    "plot against stackpg and simpg\n",
    "make violin plots using matplotlib\n",
    "learn how to run gridsearch\n",
    "soccer_gridserach\n",
    "'''\n",
    "\n",
    "plot = axl.Plot(results)\n",
    "\n",
    "pPd = plot.pdplot()\n",
    "pPd.show()\n",
    "#pStack.show()\n",
    "\n",
    "\n"
   ]
  },
  {
   "cell_type": "code",
   "execution_count": 38,
   "id": "82d6ef42",
   "metadata": {},
   "outputs": [
    {
     "data": {
      "text/plain": [
       "\"\\nclass PrisonersDilemmaEnv():\\n    n_acts = 0\\n    me = axl.Human(name='me')\\n    players = []\\n    def __init__(self, mapping_seed: int):\\n        n_acts = 4\\n        me = axl.Human(name='me')\\n        players = [axl.RiskyQLearner, me]\\n        wrapped_tournament = axl.Tournament(self, players, n_acts)\\n\""
      ]
     },
     "execution_count": 38,
     "metadata": {},
     "output_type": "execute_result"
    }
   ],
   "source": [
    "\n",
    "class PrisonersDilemmaEnv():\n",
    "    def __init__(self, mapping_seed: int):\n",
    "        n_acts = 4\n",
    "        me = axl.Human(name='me')\n",
    "        players = (axl.RiskyQLearner(), axl.TitForTat())\n",
    "        self.wrapped_match = axl.Match(players, turns=n_acts)\n",
    "\n",
    "'''\n",
    "agent observes state and reward and decides action\n",
    "agent has policy mapping from state to action\n",
    "'''\n",
    "'''\n",
    "class PrisonersDilemmaEnv():\n",
    "    n_acts = 0\n",
    "    me = axl.Human(name='me')\n",
    "    players = []\n",
    "    def __init__(self, mapping_seed: int):\n",
    "        n_acts = 4\n",
    "        me = axl.Human(name='me')\n",
    "        players = [axl.RiskyQLearner, me]\n",
    "        wrapped_tournament = axl.Tournament(self, players, n_acts)\n",
    "'''\n",
    "#me = axl.Human(name='me')\n",
    "#match_test = axl.Match(self, [axl.RiskyQLearner, me], 4)\n"
   ]
  },
  {
   "cell_type": "code",
   "execution_count": 39,
   "id": "167d1e5a",
   "metadata": {},
   "outputs": [
    {
     "data": {
      "text/plain": [
       "[(C, C), (C, C), (C, C), (C, C)]"
      ]
     },
     "execution_count": 39,
     "metadata": {},
     "output_type": "execute_result"
    }
   ],
   "source": [
    "my_env = PrisonersDilemmaEnv(mapping_seed = 0)\n",
    "my_env.wrapped_match.play()"
   ]
  },
  {
   "cell_type": "code",
   "execution_count": 32,
   "id": "e2e3f865",
   "metadata": {},
   "outputs": [
    {
     "name": "stdout",
     "output_type": "stream",
     "text": [
      "[(C, D), (C, D), (C, D)]\n"
     ]
    }
   ],
   "source": [
    "p1, p2 = axl.Cooperator(), axl.Defector()\n",
    "match = axl.Match((p1, p2), turns=3)\n",
    "result = match.play()\n",
    "print(result)"
   ]
  },
  {
   "cell_type": "code",
   "execution_count": 25,
   "id": "9ae17ff3",
   "metadata": {},
   "outputs": [
    {
     "data": {
      "text/plain": [
       "(588, 593)"
      ]
     },
     "execution_count": 25,
     "metadata": {},
     "output_type": "execute_result"
    }
   ],
   "source": [
    "\n",
    "players = (axl.TitForTat(), axl.RiskyQLearner())\n",
    "all_strategies = (axl.TitForTat(), axl.RiskyQLearner(), axl.Alternator()\n",
    "match = axl.Match(players)\n",
    "interactions = match.play()\n",
    "results = match.final_score()\n",
    "results\n",
    "# long tuple of all strategies\n",
    "# loops, changing different functions\n",
    "# print out winner"
   ]
  },
  {
   "cell_type": "code",
   "execution_count": 92,
   "id": "8f24b36d",
   "metadata": {},
   "outputs": [
    {
     "name": "stderr",
     "output_type": "stream",
     "text": [
      "Playing matches: 100%|██████████| 28441/28441 [22:27:55<00:00,  2.84s/it]      \n",
      "Analysing: 100%|██████████| 25/25 [00:20<00:00,  1.23it/s]\n"
     ]
    }
   ],
   "source": [
    "axl_strategies = [axl.Adaptive(), axl.AdaptorBrief(), axl.AdaptorLong(),\n",
    "                  axl.Alternator(), axl.APavlov2006(), axl.APavlov2011(),\n",
    "                  axl.Appeaser()]\n",
    "# Not included AMM\n",
    "axl_all_strategies = [s() for s in axl.strategies]\n",
    "tournament = axl.Tournament(axl_all_strategies)\n",
    "results = tournament.play()\n",
    "results.write_summary(\"Axl2.csv\")\n"
   ]
  },
  {
   "cell_type": "code",
   "execution_count": 55,
   "id": "3f7f0bde",
   "metadata": {},
   "outputs": [
    {
     "name": "stdout",
     "output_type": "stream",
     "text": [
      "Files in '/Users/ryanching/Documents/masuite_ryan': ['Prisoners Dilemma.ipynb', 'Untitled1.ipynb', '.DS_Store', 'Plot soccer results.ipynb', 'Untitled3.ipynb', 'Untitled.ipynb', 'Untitled2.ipynb', 'soccer-0.csv', 'Axl_Test_1.csv', '.ipynb_checkpoints', 'prisoners dilemma axl.ipynb', 'soccer0_plot.ipynb', 'smallsoccer0-gridsearch']\n"
     ]
    }
   ],
   "source": [
    "cwd = os.getcwd()  # Get the current working directory (cwd)\n",
    "files = os.listdir(cwd)  # Get all the files in that directory\n",
    "print(\"Files in %r: %s\" % (cwd, files))"
   ]
  },
  {
   "cell_type": "code",
   "execution_count": 86,
   "id": "0de56cea",
   "metadata": {},
   "outputs": [
    {
     "name": "stdout",
     "output_type": "stream",
     "text": [
      "[<class 'axelrod.strategies.memoryone.ALLCorALLD'>, <class 'axelrod.strategies.memorytwo.AON2'>, <class 'axelrod.strategies.apavlov.APavlov2006'>, <class 'axelrod.strategies.apavlov.APavlov2011'>, <class 'axelrod.strategies.adaptive.Adaptive'>, <class 'axelrod.strategies.titfortat.AdaptiveTitForTat'>, <class 'axelrod.strategies.adaptor.AdaptorBrief'>, <class 'axelrod.strategies.adaptor.AdaptorLong'>, <class 'axelrod.strategies.grudger.Aggravater'>, <class 'axelrod.strategies.titfortat.Alexei'>, <class 'axelrod.strategies.alternator.Alternator'>, <class 'axelrod.strategies.hunter.AlternatorHunter'>, <class 'axelrod.strategies.cycler.AntiCycler'>, <class 'axelrod.strategies.titfortat.AntiTitForTat'>, <class 'axelrod.strategies.appeaser.Appeaser'>, <class 'axelrod.strategies.qlearner.ArrogantQLearner'>, <class 'axelrod.strategies.averagecopier.AverageCopier'>, <class 'axelrod.strategies.backstabber.BackStabber'>, <class 'axelrod.strategies.better_and_better.BetterAndBetter'>, <class 'axelrod.strategies.titfortat.Bully'>, <class 'axelrod.strategies.bush_mosteller.BushMosteller'>, <class 'axelrod.strategies.calculator.Calculator'>, <class 'axelrod.strategies.qlearner.CautiousQLearner'>, <class 'axelrod.strategies.prober.CollectiveStrategy'>, <class 'axelrod.strategies.titfortat.ContriteTitForTat'>, <class 'axelrod.strategies.cooperator.Cooperator'>, <class 'axelrod.strategies.hunter.CooperatorHunter'>, <class 'axelrod.strategies.hunter.CycleHunter'>, <class 'axelrod.strategies.cycler.CyclerCCCCCD'>, <class 'axelrod.strategies.cycler.CyclerCCCD'>, <class 'axelrod.strategies.cycler.CyclerCCCDCD'>, <class 'axelrod.strategies.cycler.CyclerCCD'>, <class 'axelrod.strategies.cycler.CyclerDC'>, <class 'axelrod.strategies.cycler.CyclerDDC'>, <class 'axelrod.strategies.dbs.DBS'>, <class 'axelrod.strategies.defector.Defector'>, <class 'axelrod.strategies.hunter.DefectorHunter'>, <class 'axelrod.strategies.memorytwo.DelayedAON1'>, <class 'axelrod.strategies.mutual.Desperate'>, <class 'axelrod.strategies.prober.Detective'>, <class 'axelrod.strategies.backstabber.DoubleCrosser'>, <class 'axelrod.strategies.resurrection.DoubleResurrection'>, <class 'axelrod.strategies.doubler.Doubler'>, <class 'axelrod.strategies.titfortat.DynamicTwoTitsForTat'>, <class 'axelrod.strategies.grudger.EasyGo'>, <class 'axelrod.strategies.titfortat.EugineNier'>, <class 'axelrod.strategies.hunter.EventualCycleHunter'>, <class 'axelrod.strategies.ann.EvolvedANN'>, <class 'axelrod.strategies.ann.EvolvedANN5'>, <class 'axelrod.strategies.ann.EvolvedANNNoise05'>, <class 'axelrod.strategies.finite_state_machines.EvolvedFSM16'>, <class 'axelrod.strategies.finite_state_machines.EvolvedFSM16Noise05'>, <class 'axelrod.strategies.finite_state_machines.EvolvedFSM4'>, <class 'axelrod.strategies.finite_state_machines.EvolvedFSM6'>, <class 'axelrod.strategies.hmm.EvolvedHMM5'>, <class 'axelrod.strategies.lookerup.EvolvedLookerUp1_1_1'>, <class 'axelrod.strategies.lookerup.EvolvedLookerUp2_2_2'>, <class 'axelrod.strategies.memoryone.FirmButFair'>, <class 'axelrod.strategies.axelrod_first.FirstByAnonymous'>, <class 'axelrod.strategies.axelrod_first.FirstByDavis'>, <class 'axelrod.strategies.axelrod_first.FirstByDowning'>, <class 'axelrod.strategies.axelrod_first.FirstByFeld'>, <class 'axelrod.strategies.axelrod_first.FirstByGraaskamp'>, <class 'axelrod.strategies.axelrod_first.FirstByGrofman'>, <class 'axelrod.strategies.axelrod_first.FirstByJoss'>, <class 'axelrod.strategies.axelrod_first.FirstByNydegger'>, <class 'axelrod.strategies.axelrod_first.FirstByShubik'>, <class 'axelrod.strategies.axelrod_first.FirstBySteinAndRapoport'>, <class 'axelrod.strategies.axelrod_first.FirstByTidemanAndChieruzzi'>, <class 'axelrod.strategies.axelrod_first.FirstByTullock'>, <class 'axelrod.strategies.oncebitten.FoolMeOnce'>, <class 'axelrod.strategies.oncebitten.ForgetfulFoolMeOnce'>, <class 'axelrod.strategies.grudger.ForgetfulGrudger'>, <class 'axelrod.strategies.forgiver.Forgiver'>, <class 'axelrod.strategies.forgiver.ForgivingTitForTat'>, <class 'axelrod.strategies.finite_state_machines.Fortress3'>, <class 'axelrod.strategies.finite_state_machines.Fortress4'>, <class 'axelrod.strategies.memoryone.GTFT'>, <class 'axelrod.strategies.grudger.GeneralSoftGrudger'>, <class 'axelrod.strategies.gobymajority.GoByMajority'>, <class 'axelrod.strategies.gobymajority.GoByMajority10'>, <class 'axelrod.strategies.gobymajority.GoByMajority20'>, <class 'axelrod.strategies.gobymajority.GoByMajority40'>, <class 'axelrod.strategies.gobymajority.GoByMajority5'>, <class 'axelrod.strategies.mathematicalconstants.Golden'>, <class 'axelrod.strategies.titfortat.Gradual'>, <class 'axelrod.strategies.gradualkiller.GradualKiller'>, <class 'axelrod.strategies.grudger.Grudger'>, <class 'axelrod.strategies.grudger.GrudgerAlternator'>, <class 'axelrod.strategies.grumpy.Grumpy'>, <class 'axelrod.strategies.handshake.Handshake'>, <class 'axelrod.strategies.gobymajority.HardGoByMajority'>, <class 'axelrod.strategies.gobymajority.HardGoByMajority10'>, <class 'axelrod.strategies.gobymajority.HardGoByMajority20'>, <class 'axelrod.strategies.gobymajority.HardGoByMajority40'>, <class 'axelrod.strategies.gobymajority.HardGoByMajority5'>, <class 'axelrod.strategies.prober.HardProber'>, <class 'axelrod.strategies.titfortat.HardTitFor2Tats'>, <class 'axelrod.strategies.titfortat.HardTitForTat'>, <class 'axelrod.strategies.qlearner.HesitantQLearner'>, <class 'axelrod.strategies.mutual.Hopeless'>, <class 'axelrod.strategies.inverse.Inverse'>, <class 'axelrod.strategies.punisher.InversePunisher'>, <class 'axelrod.strategies.worse_and_worse.KnowledgeableWorseAndWorse'>, <class 'axelrod.strategies.punisher.LevelPunisher'>, <class 'axelrod.strategies.retaliate.LimitedRetaliate'>, <class 'axelrod.strategies.retaliate.LimitedRetaliate2'>, <class 'axelrod.strategies.retaliate.LimitedRetaliate3'>, <class 'axelrod.strategies.memorytwo.MEM2'>, <class 'axelrod.strategies.hunter.MathConstantHunter'>, <class 'axelrod.strategies.titfortat.Michaelos'>, <class 'axelrod.strategies.titfortat.NTitsForMTats'>, <class 'axelrod.strategies.prober.NaiveProber'>, <class 'axelrod.strategies.negation.Negation'>, <class 'axelrod.strategies.averagecopier.NiceAverageCopier'>, <class 'axelrod.strategies.titfortat.OmegaTFT'>, <class 'axelrod.strategies.oncebitten.OnceBitten'>, <class 'axelrod.strategies.grudger.OppositeGrudger'>, <class 'axelrod.strategies.titfortat.OriginalGradual'>, <class 'axelrod.strategies.gambler.PSOGambler1_1_1'>, <class 'axelrod.strategies.gambler.PSOGambler2_2_2'>, <class 'axelrod.strategies.gambler.PSOGambler2_2_2_Noise05'>, <class 'axelrod.strategies.gambler.PSOGamblerMem1'>, <class 'axelrod.strategies.mathematicalconstants.Pi'>, <class 'axelrod.strategies.finite_state_machines.Predator'>, <class 'axelrod.strategies.prober.Prober'>, <class 'axelrod.strategies.prober.Prober2'>, <class 'axelrod.strategies.prober.Prober3'>, <class 'axelrod.strategies.prober.Prober4'>, <class 'axelrod.strategies.finite_state_machines.Pun1'>, <class 'axelrod.strategies.punisher.Punisher'>, <class 'axelrod.strategies.finite_state_machines.Raider'>, <class 'axelrod.strategies.rand.Random'>, <class 'axelrod.strategies.hunter.RandomHunter'>, <class 'axelrod.strategies.titfortat.RandomTitForTat'>, <class 'axelrod.strategies.prober.RemorsefulProber'>, <class 'axelrod.strategies.resurrection.Resurrection'>, <class 'axelrod.strategies.retaliate.Retaliate'>, <class 'axelrod.strategies.retaliate.Retaliate2'>, <class 'axelrod.strategies.retaliate.Retaliate3'>, <class 'axelrod.strategies.revised_downing.RevisedDowning'>, <class 'axelrod.strategies.finite_state_machines.Ripoff'>, <class 'axelrod.strategies.qlearner.RiskyQLearner'>, <class 'axelrod.strategies.axelrod_second.SecondByAppold'>, <class 'axelrod.strategies.axelrod_second.SecondByBlack'>, <class 'axelrod.strategies.axelrod_second.SecondByBorufsen'>, <class 'axelrod.strategies.axelrod_second.SecondByCave'>, <class 'axelrod.strategies.axelrod_second.SecondByChampion'>, <class 'axelrod.strategies.axelrod_second.SecondByColbert'>, <class 'axelrod.strategies.axelrod_second.SecondByEatherley'>, <class 'axelrod.strategies.axelrod_second.SecondByGetzler'>, <class 'axelrod.strategies.axelrod_second.SecondByGladstein'>, <class 'axelrod.strategies.axelrod_second.SecondByGraaskampKatzen'>, <class 'axelrod.strategies.axelrod_second.SecondByGrofman'>, <class 'axelrod.strategies.axelrod_second.SecondByHarrington'>, <class 'axelrod.strategies.axelrod_second.SecondByKluepfel'>, <class 'axelrod.strategies.axelrod_second.SecondByLeyvraz'>, <class 'axelrod.strategies.axelrod_second.SecondByMikkelson'>, <class 'axelrod.strategies.axelrod_second.SecondByRichardHufford'>, <class 'axelrod.strategies.axelrod_second.SecondByRowsam'>, <class 'axelrod.strategies.axelrod_second.SecondByTester'>, <class 'axelrod.strategies.axelrod_second.SecondByTidemanAndChieruzzi'>, <class 'axelrod.strategies.axelrod_second.SecondByTranquilizer'>, <class 'axelrod.strategies.axelrod_second.SecondByWeiner'>, <class 'axelrod.strategies.axelrod_second.SecondByWhite'>, <class 'axelrod.strategies.axelrod_second.SecondByWmAdams'>, <class 'axelrod.strategies.axelrod_second.SecondByYamachi'>, <class 'axelrod.strategies.selfsteem.SelfSteem'>, <class 'axelrod.strategies.shortmem.ShortMem'>, <class 'axelrod.strategies.titfortat.SlowTitForTwoTats2'>, <class 'axelrod.strategies.titfortat.SneakyTitForTat'>, <class 'axelrod.strategies.grudger.SoftGrudger'>, <class 'axelrod.strategies.memoryone.SoftJoss'>, <class 'axelrod.strategies.finite_state_machines.SolutionB1'>, <class 'axelrod.strategies.finite_state_machines.SolutionB5'>, <class 'axelrod.strategies.titfortat.SpitefulTitForTat'>, <class 'axelrod.strategies.grudger.SpitefulCC'>, <class 'axelrod.strategies.stalker.Stalker'>, <class 'axelrod.strategies.memoryone.StochasticCooperator'>, <class 'axelrod.strategies.memoryone.StochasticWSLS'>, <class 'axelrod.strategies.titfortat.SuspiciousTitForTat'>, <class 'axelrod.strategies.finite_state_machines.TF1'>, <class 'axelrod.strategies.finite_state_machines.TF2'>, <class 'axelrod.strategies.finite_state_machines.TF3'>, <class 'axelrod.strategies.sequence_player.ThueMorse'>, <class 'axelrod.strategies.sequence_player.ThueMorseInverse'>, <class 'axelrod.strategies.finite_state_machines.Thumper'>, <class 'axelrod.strategies.titfortat.TitFor2Tats'>, <class 'axelrod.strategies.titfortat.TitForTat'>, <class 'axelrod.strategies.cooperator.TrickyCooperator'>, <class 'axelrod.strategies.defector.TrickyDefector'>, <class 'axelrod.strategies.punisher.TrickyLevelPunisher'>, <class 'axelrod.strategies.titfortat.TwoTitsForTat'>, <class 'axelrod.strategies.finite_state_machines.UsuallyCooperates'>, <class 'axelrod.strategies.finite_state_machines.UsuallyDefects'>, <class 'axelrod.strategies.verybad.VeryBad'>, <class 'axelrod.strategies.mutual.Willing'>, <class 'axelrod.strategies.memoryone.WinShiftLoseStay'>, <class 'axelrod.strategies.memoryone.WinStayLoseShift'>, <class 'axelrod.strategies.lookerup.Winner12'>, <class 'axelrod.strategies.lookerup.Winner21'>, <class 'axelrod.strategies.worse_and_worse.WorseAndWorse'>, <class 'axelrod.strategies.worse_and_worse.WorseAndWorse2'>, <class 'axelrod.strategies.worse_and_worse.WorseAndWorse3'>, <class 'axelrod.strategies.zero_determinant.ZDExtort2'>, <class 'axelrod.strategies.zero_determinant.ZDExtort2v2'>, <class 'axelrod.strategies.zero_determinant.ZDExtort3'>, <class 'axelrod.strategies.zero_determinant.ZDExtort4'>, <class 'axelrod.strategies.zero_determinant.ZDExtortion'>, <class 'axelrod.strategies.zero_determinant.ZDGTFT2'>, <class 'axelrod.strategies.zero_determinant.ZDGen2'>, <class 'axelrod.strategies.gambler.ZDMem2'>, <class 'axelrod.strategies.zero_determinant.ZDMischief'>, <class 'axelrod.strategies.zero_determinant.ZDSet2'>, <class 'axelrod.strategies.mathematicalconstants.e'>, <class 'axelrod.strategies.meta.MemoryDecay'>, <class 'axelrod.strategies.meta.MetaHunter'>, <class 'axelrod.strategies.meta.MetaHunterAggressive'>, <class 'axelrod.strategies.meta.MetaMajority'>, <class 'axelrod.strategies.meta.MetaMajorityMemoryOne'>, <class 'axelrod.strategies.meta.MetaMajorityFiniteMemory'>, <class 'axelrod.strategies.meta.MetaMajorityLongMemory'>, <class 'axelrod.strategies.meta.MetaMinority'>, <class 'axelrod.strategies.meta.MetaMixer'>, <class 'axelrod.strategies.meta.MetaWinner'>, <class 'axelrod.strategies.meta.MetaWinnerDeterministic'>, <class 'axelrod.strategies.meta.MetaWinnerEnsemble'>, <class 'axelrod.strategies.meta.MetaWinnerMemoryOne'>, <class 'axelrod.strategies.meta.MetaWinnerFiniteMemory'>, <class 'axelrod.strategies.meta.MetaWinnerLongMemory'>, <class 'axelrod.strategies.meta.MetaWinnerStochastic'>, <class 'axelrod.strategies.meta.NMWEDeterministic'>, <class 'axelrod.strategies.meta.NMWEFiniteMemory'>, <class 'axelrod.strategies.meta.NMWELongMemory'>, <class 'axelrod.strategies.meta.NMWEMemoryOne'>, <class 'axelrod.strategies.meta.NMWEStochastic'>, <class 'axelrod.strategies.meta.NiceMetaWinner'>, <class 'axelrod.strategies.meta.NiceMetaWinnerEnsemble'>]\n"
     ]
    }
   ],
   "source": [
    "#print(axl.strategies)\n",
    "test5 = axl\n",
    "for i in axl.strategies:\n",
    "    test5.append(i)"
   ]
  },
  {
   "cell_type": "code",
   "execution_count": null,
   "id": "b02097f7",
   "metadata": {},
   "outputs": [],
   "source": [
    "# TRY Appending stochastic = false with stochastic = true"
   ]
  }
 ],
 "metadata": {
  "kernelspec": {
   "display_name": "Python 3",
   "language": "python",
   "name": "python3"
  },
  "language_info": {
   "codemirror_mode": {
    "name": "ipython",
    "version": 3
   },
   "file_extension": ".py",
   "mimetype": "text/x-python",
   "name": "python",
   "nbconvert_exporter": "python",
   "pygments_lexer": "ipython3",
   "version": "3.8.8"
  }
 },
 "nbformat": 4,
 "nbformat_minor": 5
}
